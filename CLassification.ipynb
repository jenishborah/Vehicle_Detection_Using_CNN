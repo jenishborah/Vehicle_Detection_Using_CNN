{
 "cells": [
  {
   "cell_type": "code",
   "execution_count": 1,
   "id": "864dc810",
   "metadata": {},
   "outputs": [],
   "source": [
    "import os\n",
    "import numpy as np\n",
    "import cv2\n",
    "from sklearn.model_selection import train_test_split\n",
    "from keras.models import Sequential\n",
    "from keras.layers import Conv2D, MaxPooling2D, Flatten, Dense\n",
    "from keras.preprocessing.image import ImageDataGenerator\n",
    "\n"
   ]
  },
  {
   "cell_type": "code",
   "execution_count": 2,
   "id": "def33917",
   "metadata": {},
   "outputs": [],
   "source": [
    "# Set the paths to the vehicle and non-vehicle image folders\n",
    "vehicle_folder = 'D:\\\\Msc GU\\\\Project\\\\Chids Project\\\\archive\\\\data\\\\vehicles'\n",
    "non_vehicle_folder = 'D:\\\\Msc GU\\\\Project\\\\Chids Project\\\\archive\\\\data\\\\non-vehicles'\n",
    "\n"
   ]
  },
  {
   "cell_type": "code",
   "execution_count": 3,
   "id": "57a77c35",
   "metadata": {},
   "outputs": [],
   "source": [
    "# Load the images and labels\n",
    "vehicle_images = []\n",
    "non_vehicle_images = []\n",
    "\n",
    "for filename in os.listdir(vehicle_folder):\n",
    "    img = cv2.imread(os.path.join(vehicle_folder, filename))\n",
    "    img = cv2.resize(img, (64, 64))  # Resize the image to a suitable size\n",
    "    vehicle_images.append(img)\n",
    "\n",
    "for filename in os.listdir(non_vehicle_folder):\n",
    "    img = cv2.imread(os.path.join(non_vehicle_folder, filename))\n",
    "    img = cv2.resize(img, (64, 64))  # Resize the image to a suitable size\n",
    "    non_vehicle_images.append(img)\n",
    "\n"
   ]
  },
  {
   "cell_type": "code",
   "execution_count": 4,
   "id": "3f360ecf",
   "metadata": {},
   "outputs": [],
   "source": [
    "# Create labels for the images\n",
    "vehicle_labels = np.ones(len(vehicle_images))\n",
    "non_vehicle_labels = np.zeros(len(non_vehicle_images))\n",
    "\n",
    "# Combine the vehicle and non-vehicle data\n",
    "images = np.concatenate([vehicle_images, non_vehicle_images])\n",
    "labels = np.concatenate([vehicle_labels, non_vehicle_labels])\n",
    "\n"
   ]
  },
  {
   "cell_type": "code",
   "execution_count": 5,
   "id": "aa77b727",
   "metadata": {},
   "outputs": [],
   "source": [
    "# Split the data into training and testing sets\n",
    "train_images, test_images, train_labels, test_labels = train_test_split(\n",
    "    images, labels, test_size=0.2, random_state=42)\n",
    "\n"
   ]
  },
  {
   "cell_type": "code",
   "execution_count": 6,
   "id": "3cbc2d82",
   "metadata": {},
   "outputs": [],
   "source": [
    "# Define the CNN model\n",
    "model = Sequential()\n",
    "model.add(Conv2D(32, (3, 3), activation='relu', input_shape=(64, 64, 3)))\n",
    "model.add(MaxPooling2D(pool_size=(2, 2)))\n",
    "model.add(Conv2D(64, (3, 3), activation='relu'))\n",
    "model.add(MaxPooling2D(pool_size=(2, 2)))\n",
    "model.add(Flatten())\n",
    "model.add(Dense(128, activation='relu'))\n",
    "model.add(Dense(1, activation='sigmoid'))\n",
    "\n"
   ]
  },
  {
   "cell_type": "code",
   "execution_count": 7,
   "id": "cdf6c382",
   "metadata": {},
   "outputs": [],
   "source": [
    "# Compile the model\n",
    "model.compile(optimizer='adam', loss='binary_crossentropy', metrics=['accuracy'])\n",
    "\n"
   ]
  },
  {
   "cell_type": "code",
   "execution_count": 8,
   "id": "71273e6f",
   "metadata": {},
   "outputs": [],
   "source": [
    "# Data augmentation\n",
    "datagen = ImageDataGenerator(\n",
    "    rotation_range=10,  # Randomly rotate the images\n",
    "    width_shift_range=0.1,  # Randomly shift the images horizontally\n",
    "    height_shift_range=0.1,  # Randomly shift the images vertically\n",
    "    horizontal_flip=True)  # Randomly flip the images horizontally\n",
    "\n"
   ]
  },
  {
   "cell_type": "code",
   "execution_count": 9,
   "id": "59851221",
   "metadata": {
    "scrolled": true
   },
   "outputs": [
    {
     "name": "stdout",
     "output_type": "stream",
     "text": [
      "Epoch 1/15\n",
      "444/444 [==============================] - 49s 107ms/step - loss: 1.1794 - accuracy: 0.9003\n",
      "Epoch 2/15\n",
      "444/444 [==============================] - 49s 109ms/step - loss: 0.1132 - accuracy: 0.9624\n",
      "Epoch 3/15\n",
      "444/444 [==============================] - 57s 128ms/step - loss: 0.1069 - accuracy: 0.9664\n",
      "Epoch 4/15\n",
      "444/444 [==============================] - 58s 131ms/step - loss: 0.0738 - accuracy: 0.9771\n",
      "Epoch 5/15\n",
      "444/444 [==============================] - 58s 131ms/step - loss: 0.0724 - accuracy: 0.9758\n",
      "Epoch 6/15\n",
      "444/444 [==============================] - 59s 133ms/step - loss: 0.0876 - accuracy: 0.9741\n",
      "Epoch 7/15\n",
      "444/444 [==============================] - 59s 132ms/step - loss: 0.1029 - accuracy: 0.9713\n",
      "Epoch 8/15\n",
      "444/444 [==============================] - 58s 131ms/step - loss: 0.0567 - accuracy: 0.9813\n",
      "Epoch 9/15\n",
      "444/444 [==============================] - 65s 146ms/step - loss: 0.0696 - accuracy: 0.9811\n",
      "Epoch 10/15\n",
      "444/444 [==============================] - 63s 142ms/step - loss: 0.0477 - accuracy: 0.9847\n",
      "Epoch 11/15\n",
      "444/444 [==============================] - 59s 132ms/step - loss: 0.0371 - accuracy: 0.9880\n",
      "Epoch 12/15\n",
      "444/444 [==============================] - 58s 130ms/step - loss: 0.0462 - accuracy: 0.9857\n",
      "Epoch 13/15\n",
      "444/444 [==============================] - 58s 129ms/step - loss: 0.0484 - accuracy: 0.9863\n",
      "Epoch 14/15\n",
      "444/444 [==============================] - 71s 160ms/step - loss: 0.0354 - accuracy: 0.9900\n",
      "Epoch 15/15\n",
      "444/444 [==============================] - 60s 134ms/step - loss: 0.0379 - accuracy: 0.9895\n"
     ]
    },
    {
     "data": {
      "text/plain": [
       "<keras.callbacks.History at 0x21b4bfc8520>"
      ]
     },
     "execution_count": 9,
     "metadata": {},
     "output_type": "execute_result"
    }
   ],
   "source": [
    "# Train the model\n",
    "model.fit(datagen.flow(train_images, train_labels, batch_size=32),\n",
    "          steps_per_epoch=len(train_images) // 32, epochs=15)\n",
    "\n"
   ]
  },
  {
   "cell_type": "code",
   "execution_count": 10,
   "id": "4ca445b1",
   "metadata": {},
   "outputs": [
    {
     "name": "stdout",
     "output_type": "stream",
     "text": [
      "111/111 [==============================] - 3s 24ms/step - loss: 0.0619 - accuracy: 0.9842\n",
      "Test Loss: 0.061933524906635284\n",
      "Test Accuracy: 0.9842342138290405\n"
     ]
    }
   ],
   "source": [
    "# Evaluate the model\n",
    "loss, accuracy = model.evaluate(test_images, test_labels)\n",
    "print('Test Loss:', loss)\n",
    "print('Test Accuracy:', accuracy)\n",
    "\n"
   ]
  },
  {
   "cell_type": "code",
   "execution_count": null,
   "id": "14d3ff88",
   "metadata": {},
   "outputs": [],
   "source": [
    "# Save the model\n",
    "model.save('vehicle_detection_model.h5')\n",
    "\n",
    "# Make predictions\n",
    "new_images = [...]  # Load or capture new images\n",
    "new_images = np.array(new_images)\n",
    "new_images = np.resize(new_images, (len(new_images), 64, 64, 3))\n",
    "predictions = model.predict(new_images)\n",
    "\n",
    "# Convert predictions to class labels\n",
    "class_labels = ['Non-vehicle', 'Vehicle']\n",
    "predicted_labels = [class_labels[int(prediction)] for prediction in predictions]\n",
    "\n",
    "print('Predictions:', predicted_labels)\n"
   ]
  }
 ],
 "metadata": {
  "kernelspec": {
   "display_name": "Python 3 (ipykernel)",
   "language": "python",
   "name": "python3"
  },
  "language_info": {
   "codemirror_mode": {
    "name": "ipython",
    "version": 3
   },
   "file_extension": ".py",
   "mimetype": "text/x-python",
   "name": "python",
   "nbconvert_exporter": "python",
   "pygments_lexer": "ipython3",
   "version": "3.9.12"
  }
 },
 "nbformat": 4,
 "nbformat_minor": 5
}
